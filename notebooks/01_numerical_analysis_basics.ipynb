{
 "cells": [
  {
   "cell_type": "code",
   "execution_count": 4,
   "id": "3a11e756-a90e-486a-86ef-818fcded854c",
   "metadata": {},
   "outputs": [],
   "source": [
    "import numpy as np"
   ]
  },
  {
   "cell_type": "markdown",
   "id": "0a7ec3d6-ca6c-40b4-b146-f7194413b3bc",
   "metadata": {},
   "source": [
    "# Machine Epsilon"
   ]
  },
  {
   "cell_type": "code",
   "execution_count": 5,
   "id": "bb69fd40-3b0f-4711-bfbf-76a51a3a16ca",
   "metadata": {},
   "outputs": [],
   "source": [
    "def machine_epsilon(float_type):\n",
    "    \"\"\"Returns the number of significant digits in the mantissa\n",
    "    for a binary floats.\n",
    "    \"\"\"\n",
    "\n",
    "    Eps = float_type(1)\n",
    "    One = float_type(1)\n",
    "    Two = float_type(2)\n",
    "\n",
    "    while True:\n",
    "        \n",
    "        if Eps/Two+One<=One:\n",
    "            break\n",
    "        \n",
    "        Eps = Eps/Two\n",
    "\n",
    "    t = (One-np.log(Eps)/np.log(Two))\n",
    "\n",
    "    return int(t)"
   ]
  },
  {
   "cell_type": "code",
   "execution_count": 6,
   "id": "b6dffb9d-ab04-4c5c-84da-4119cfa33a8e",
   "metadata": {},
   "outputs": [
    {
     "name": "stdout",
     "output_type": "stream",
     "text": [
      "53\n",
      "24\n",
      "53\n"
     ]
    }
   ],
   "source": [
    "print(machine_epsilon(float))\n",
    "print(machine_epsilon(np.float32))\n",
    "print(machine_epsilon(np.float64))"
   ]
  },
  {
   "cell_type": "markdown",
   "id": "c028d56b-73c9-43c6-baef-9dcca9466037",
   "metadata": {},
   "source": [
    "# Floating Point Arithmetic"
   ]
  },
  {
   "cell_type": "markdown",
   "id": "b93078e4-4372-4234-978a-4dab45ade828",
   "metadata": {},
   "source": [
    "The objective of this exercise is to investigate the effect of round-off error on large numbers of interdependent computations."
   ]
  },
  {
   "cell_type": "code",
   "execution_count": 7,
   "id": "bb646250-192a-42c3-b073-d769f089b530",
   "metadata": {},
   "outputs": [
    {
     "name": "stdout",
     "output_type": "stream",
     "text": [
      "1.0009902 0.099015236\n",
      "0.9999999999980838 1.9162449405030202e-10\n",
      "0.9999999999980838 1.9162449405030202e-10\n"
     ]
    }
   ],
   "source": [
    "sum1 = np.float32(0)    # single precision\n",
    "sum2 = np.float64(0)    # double precision\n",
    "sum3 = 0.               # double precision\n",
    "\n",
    "x1 = np.float32(1e-5)\n",
    "x2 = np.float64(1e-5)\n",
    "x3 = 1e-5\n",
    "\n",
    "for i in range(100000):\n",
    "    sum1 += x1\n",
    "    sum2 += x2\n",
    "    sum3 += x3\n",
    "\n",
    "print(sum1,abs(sum1-1)*100)\n",
    "print(sum2,abs(sum2-1)*100)\n",
    "print(sum3,abs(sum3-1)*100)"
   ]
  },
  {
   "cell_type": "code",
   "execution_count": null,
   "id": "700e470e-88e0-4829-bf16-f5789033ac8b",
   "metadata": {},
   "outputs": [],
   "source": []
  },
  {
   "cell_type": "markdown",
   "id": "234082ab-9c05-4259-b797-c8e9b3e61d35",
   "metadata": {},
   "source": [
    "# Cancellation"
   ]
  },
  {
   "cell_type": "code",
   "execution_count": 8,
   "id": "20745293-6055-4c9c-ab1b-5e91c163c915",
   "metadata": {},
   "outputs": [],
   "source": [
    "def quadratic_equation(x,a=1,b=1,c=1):\n",
    "    \"\"\"Returns the value of quadratic equation.\"\"\"    \n",
    "    return a*x**2+b*x+c"
   ]
  },
  {
   "cell_type": "code",
   "execution_count": 9,
   "id": "46ae20ea-b37b-484e-a77c-67b2deb092c7",
   "metadata": {},
   "outputs": [],
   "source": [
    "def naive_solver(a,b,c):\n",
    "    \"\"\"Return the root values of x for quadratic equation,\n",
    "    naive implementation.\"\"\"\n",
    "\n",
    "    D = np.sqrt(b**2-4*a*c)\n",
    "\n",
    "    x1 = (-b+D)/(2*a)\n",
    "    x2 = (-b-D)/(2*a)\n",
    "        \n",
    "    y1 = quadratic_equation(x1,a=a,b=b,c=c)\n",
    "    y2 = quadratic_equation(x2,a=a,b=b,c=c)\n",
    "\n",
    "    print(f\"{x1=}, {y1=}\")\n",
    "    print(f\"{x2=}, {y2=}\")"
   ]
  },
  {
   "cell_type": "code",
   "execution_count": 10,
   "id": "f679840c-2cd3-4018-8856-ffb4fe4557b8",
   "metadata": {},
   "outputs": [],
   "source": [
    "def wise_solver(a,b,c):\n",
    "    \"\"\"Return the root values of x for quadratic equation,\n",
    "    wise implementation.\"\"\"\n",
    "\n",
    "    D = np.sqrt(b**2-4*a*c)\n",
    "\n",
    "    if np.sign(b*D) == 0:\n",
    "        x1 = 0 if a!=0 else np.nan\n",
    "        x2 = 0 if a!=0 else np.nan\n",
    "    elif np.sign(b*D)>0:\n",
    "        x1 = (2*c)/(-b-D)\n",
    "        x2 = (-b-D)/(2*a)\n",
    "    elif np.sign(b*D)<0:\n",
    "        x1 = (-b+D)/(2*a)\n",
    "        x2 = (2*c)/(-b+D)\n",
    "\n",
    "    y1 = quadratic_equation(x1,a=a,b=b,c=c)\n",
    "    y2 = quadratic_equation(x2,a=a,b=b,c=c)\n",
    "\n",
    "    print(f\"{x1=}, {y1=}\")\n",
    "    print(f\"{x2=}, {y2=}\")"
   ]
  },
  {
   "cell_type": "code",
   "execution_count": 11,
   "id": "13973e71-09b3-41ca-b424-5e5cd84b9dda",
   "metadata": {},
   "outputs": [
    {
     "name": "stdout",
     "output_type": "stream",
     "text": [
      "x1=np.float64(0.0), y1=np.float64(-1.5e-14)\n",
      "x2=np.float64(-200.0), y2=np.float64(-1.5e-14)\n",
      "x1=np.float64(7.5e-17), y1=np.float64(0.0)\n",
      "x2=np.float64(-200.0), y2=np.float64(-1.5e-14)\n"
     ]
    }
   ],
   "source": [
    "a = 1.\n",
    "b = 200.\n",
    "c = -1.5e-14\n",
    "\n",
    "naive_solver(a,b,c)\n",
    "wise_solver(a,b,c)"
   ]
  },
  {
   "cell_type": "code",
   "execution_count": null,
   "id": "9c457011-492f-4383-9a14-b10fb76d63a9",
   "metadata": {},
   "outputs": [],
   "source": []
  }
 ],
 "metadata": {
  "kernelspec": {
   "display_name": "Python 3 (ipykernel)",
   "language": "python",
   "name": "python3"
  },
  "language_info": {
   "codemirror_mode": {
    "name": "ipython",
    "version": 3
   },
   "file_extension": ".py",
   "mimetype": "text/x-python",
   "name": "python",
   "nbconvert_exporter": "python",
   "pygments_lexer": "ipython3",
   "version": "3.12.4"
  }
 },
 "nbformat": 4,
 "nbformat_minor": 5
}
