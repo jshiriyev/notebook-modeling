{
 "cells": [
  {
   "cell_type": "markdown",
   "id": "0b30803e-3211-4944-be64-42b4101915ae",
   "metadata": {},
   "source": [
    "# Basics of Scientific Computing"
   ]
  },
  {
   "cell_type": "markdown",
   "id": "a229cad0-fbae-4d14-8458-bf64949b2de5",
   "metadata": {},
   "source": [
    "## General Strategy"
   ]
  },
  {
   "cell_type": "markdown",
   "id": "66288028-75f6-4189-924d-2ae6517a5274",
   "metadata": {
    "jp-MarkdownHeadingCollapsed": true
   },
   "source": [
    "## Approximations in Scientific Computing"
   ]
  },
  {
   "cell_type": "markdown",
   "id": "c238b09e-4b0c-4cef-b120-ca223de194d8",
   "metadata": {},
   "source": [
    "### Absolute and Relative Error Calculation\n",
    "\n",
    "The **relative error** measures the accuracy of an approximation compared to the actual value. It is calculated as a percentage:\n",
    "\n",
    "$$\n",
    "\\text{Relative Error (\\%)} = \\frac{|\\text{Approximate Value} - \\text{True Value}|}{|\\text{True Value}|} \\times 100\n",
    "$$\n",
    "\n",
    "The following Python script demonstrates a function for relative error calculation."
   ]
  },
  {
   "cell_type": "code",
   "execution_count": 74,
   "id": "6e716c46-bcf8-4d2a-a14a-4c7f44a54018",
   "metadata": {},
   "outputs": [],
   "source": [
    "def relative_error(apprx,exact):\n",
    "    \"\"\"Compute relative error.\"\"\"\n",
    "    return abs(apprx-exact)/abs(exact)"
   ]
  },
  {
   "cell_type": "markdown",
   "id": "f67beac4-edf2-45f4-af21-bcf137010e26",
   "metadata": {},
   "source": [
    "### Sensitivity and Conditioning"
   ]
  },
  {
   "cell_type": "markdown",
   "id": "de69a33a-b222-4faf-ac63-ea8d8ea0dfdd",
   "metadata": {},
   "source": [
    "The **condition number** of a function $f$ at a point $x$ quantifies how sensitive the output of $f(x)$ is to small changes in the input $x$. It measures the potential for error amplification in numerical computations. For a function $f(x)$, the condition number $\\kappa(x)$ is defined as:\n",
    "\n",
    "$$\n",
    "\\kappa(x) = \\left| \\frac{x f'(x)}{f(x)} \\right|\n",
    "$$\n",
    "\n",
    "where:\n",
    "- $ f(x) $ is the function,\n",
    "- $ f'(x) $ is the derivative of $ f(x) $,\n",
    "- $ x $ is the input value.\n",
    "\n",
    "If $ \\kappa(x) $ is **large**, the problem is **ill-conditioned** (small input changes cause large output variations).  \n",
    "If $ \\kappa(x) $ is **small**, the problem is **well-conditioned** (output changes proportionally with input)."
   ]
  },
  {
   "cell_type": "code",
   "execution_count": 75,
   "id": "03270b94-4ef5-422b-8724-d74c01d2ecac",
   "metadata": {},
   "outputs": [],
   "source": [
    "def condition_number(f, x, h=1e-5):\n",
    "    \"\"\"Computes the condition number of a function f at x.\"\"\"\n",
    "    # Compute numerical derivative using central difference method\n",
    "    df_dx = (f(x + h) - f(x - h)) / (2 * h)\n",
    "    \n",
    "    # Avoid division by zero\n",
    "    if f(x) == 0:\n",
    "        raise ValueError(\"Condition number is undefined at x where f(x) = 0.\")\n",
    "    \n",
    "    # Compute the condition number\n",
    "    kappa = abs((x * df_dx) / f(x))\n",
    "    \n",
    "    return kappa"
   ]
  },
  {
   "cell_type": "markdown",
   "id": "a8e1157c-3d37-4940-a039-9c444a635a57",
   "metadata": {},
   "source": [
    "Example Usage:"
   ]
  },
  {
   "cell_type": "code",
   "execution_count": 78,
   "id": "2e692423-1c18-4b57-a1e2-edca0698be61",
   "metadata": {},
   "outputs": [
    {
     "name": "stdout",
     "output_type": "stream",
     "text": [
      "Condition number of f(x) = x^2 at x = 2.0 is 2.0000\n"
     ]
    }
   ],
   "source": [
    "f = lambda x: x**2  # Example function: f(x) = x^2\n",
    "x_val = 2.0  # Evaluate at x = 2\n",
    "\n",
    "cond_num = condition_number(f, x_val)\n",
    "print(f\"Condition number of f(x) = x^2 at x = {x_val} is {cond_num:.4f}\")"
   ]
  },
  {
   "cell_type": "markdown",
   "id": "fe1cd97b-60f8-4784-b28b-874b0021da7d",
   "metadata": {},
   "source": [
    "The **condition cumber** for a matrix $A$, the condition number in terms of the **norm** is:\n",
    "\n",
    "$$\n",
    "\\kappa(A) = \\|A\\| \\cdot \\|A^{-1}\\|\n",
    "$$\n",
    "\n",
    "where $ \\|A\\| $ is the matrix norm. A high $ \\kappa(A) $ means solving $ Ax = b $ is sensitive to numerical errors.\n",
    "\n",
    "- $ \\kappa \\approx 1 $ → **Well-conditioned problem** (stable computation).\n",
    "- $ \\kappa \\gg 1 $ → **Ill-conditioned problem** (small changes in input cause large output errors).\n",
    "- $ \\kappa \\to \\infty $ → **Singular or nearly singular problem** (numerical instability).\n",
    "\n",
    "The condition number provides a critical measure of problem stability. Understanding it helps avoid numerical inaccuracies in computation."
   ]
  },
  {
   "cell_type": "markdown",
   "id": "088a7d46-ce3d-4284-af84-830aa565a2ab",
   "metadata": {
    "jp-MarkdownHeadingCollapsed": true
   },
   "source": [
    "## Computer Arithmetic"
   ]
  },
  {
   "cell_type": "markdown",
   "id": "0a7ec3d6-ca6c-40b4-b146-f7194413b3bc",
   "metadata": {},
   "source": [
    "### Machine Epsilon"
   ]
  },
  {
   "cell_type": "code",
   "execution_count": 5,
   "id": "bb69fd40-3b0f-4711-bfbf-76a51a3a16ca",
   "metadata": {},
   "outputs": [],
   "source": [
    "def machine_epsilon(float_type):\n",
    "    \"\"\"Returns the number of significant digits in the mantissa\n",
    "    for a binary floats.\n",
    "    \"\"\"\n",
    "\n",
    "    Eps = float_type(1)\n",
    "    One = float_type(1)\n",
    "    Two = float_type(2)\n",
    "\n",
    "    while True:\n",
    "        \n",
    "        if Eps/Two+One<=One:\n",
    "            break\n",
    "        \n",
    "        Eps = Eps/Two\n",
    "\n",
    "    t = (One-np.log(Eps)/np.log(Two))\n",
    "\n",
    "    return int(t)"
   ]
  },
  {
   "cell_type": "code",
   "execution_count": 6,
   "id": "b6dffb9d-ab04-4c5c-84da-4119cfa33a8e",
   "metadata": {},
   "outputs": [
    {
     "name": "stdout",
     "output_type": "stream",
     "text": [
      "53\n",
      "24\n",
      "53\n"
     ]
    }
   ],
   "source": [
    "print(machine_epsilon(float))\n",
    "print(machine_epsilon(np.float32))\n",
    "print(machine_epsilon(np.float64))"
   ]
  },
  {
   "cell_type": "markdown",
   "id": "c028d56b-73c9-43c6-baef-9dcca9466037",
   "metadata": {},
   "source": [
    "### Floating Point Arithmetic"
   ]
  },
  {
   "cell_type": "markdown",
   "id": "b93078e4-4372-4234-978a-4dab45ade828",
   "metadata": {},
   "source": [
    "The objective of this exercise is to investigate the effect of round-off error on large numbers of interdependent computations."
   ]
  },
  {
   "cell_type": "markdown",
   "id": "ea8c804a-3015-4640-8dd7-4b07b2db9164",
   "metadata": {},
   "source": [
    "1. Initialize sums with different precisions:"
   ]
  },
  {
   "cell_type": "code",
   "execution_count": 67,
   "id": "2bc34373-420a-4996-a272-966e3627a0a4",
   "metadata": {},
   "outputs": [],
   "source": [
    "sum1 = np.float32(0)  # Single precision\n",
    "sum2 = np.float64(0)  # Double precision\n",
    "sum3 = 0.0            # Default Python float (double precision)"
   ]
  },
  {
   "cell_type": "markdown",
   "id": "5c349584-6ddc-4aef-9155-82ac5e10a0d3",
   "metadata": {},
   "source": [
    "2. Define small increments"
   ]
  },
  {
   "cell_type": "code",
   "execution_count": 68,
   "id": "bb646250-192a-42c3-b073-d769f089b530",
   "metadata": {},
   "outputs": [],
   "source": [
    "x1 = np.float32(1e-5)\n",
    "x2 = np.float64(1e-5)\n",
    "x3 = 1e-5  # Default float (double precision)"
   ]
  },
  {
   "cell_type": "markdown",
   "id": "0739a285-43ed-4ed3-8254-92321e53c1da",
   "metadata": {},
   "source": [
    "3. Perform summation"
   ]
  },
  {
   "cell_type": "code",
   "execution_count": 69,
   "id": "48db2a5b-e93c-43f6-a3b2-1999f34a836f",
   "metadata": {},
   "outputs": [],
   "source": [
    "# Number of iterations\n",
    "N = 100_000\n",
    "\n",
    "for _ in range(N):\n",
    "    sum1 += x1\n",
    "    sum2 += x2\n",
    "    sum3 += x3"
   ]
  },
  {
   "cell_type": "markdown",
   "id": "e170d86f-6429-43cd-a43a-72ddf4bceeab",
   "metadata": {},
   "source": [
    "4. Compute relative error in percentage"
   ]
  },
  {
   "cell_type": "code",
   "execution_count": 70,
   "id": "c3c587a8-e074-4d1e-82ea-9ce8f096a4a0",
   "metadata": {},
   "outputs": [],
   "source": [
    "error1 = relative_error(sum1,1)*100\n",
    "error2 = relative_error(sum2,1)*100\n",
    "error3 = relative_error(sum3,1)*100"
   ]
  },
  {
   "cell_type": "markdown",
   "id": "85756e7e-dcfd-43c3-a010-001c175a2fcf",
   "metadata": {},
   "source": [
    "5. Display results"
   ]
  },
  {
   "cell_type": "code",
   "execution_count": 72,
   "id": "0f0b04e8-6bae-45fa-a97a-2a10fa136c5c",
   "metadata": {},
   "outputs": [
    {
     "name": "stdout",
     "output_type": "stream",
     "text": [
      "Single precision: 1.00099015, Error: 0.09901524%\n",
      "Double precision (numpy): 1.00000000, Error: 0.00000000%\n",
      "Double precision (default): 1.00000000, Error: 0.00000000%\n"
     ]
    }
   ],
   "source": [
    "print(f\"Single precision: {sum1:.8f}, Error: {error1:.8f}%\")\n",
    "print(f\"Double precision (numpy): {sum2:.8f}, Error: {error2:.8f}%\")\n",
    "print(f\"Double precision (default): {sum3:.8f}, Error: {error3:.8f}%\")"
   ]
  },
  {
   "cell_type": "markdown",
   "id": "abcf0cdb-edd4-481d-ab5c-60cba9f96146",
   "metadata": {},
   "source": [
    "### Cancellation"
   ]
  },
  {
   "cell_type": "markdown",
   "id": "3e823cec-6918-425a-8dcc-7d73588b7669",
   "metadata": {},
   "source": [
    "Catastrophic cancellation occurs when subtracting nearly equal floating-point numbers, leading to significant loss of precision."
   ]
  },
  {
   "cell_type": "markdown",
   "id": "d101e4bd-4717-4550-a906-6ef903f6fc6a",
   "metadata": {},
   "source": [
    "#### Example 1: Summing Alternating Series"
   ]
  },
  {
   "cell_type": "markdown",
   "id": "3cc487bf-8ca1-429e-92b1-2e821dcae932",
   "metadata": {},
   "source": [
    "The Taylor series expansion of \\( e^x \\) around \\( x = 0 \\) is given by:\n",
    "\n",
    "$$\n",
    "e^x = \\sum_{n=0}^{\\infty} \\frac{x^n}{n!}\n",
    "$$\n",
    "\n",
    "Expanding the first few terms:\n",
    "\n",
    "$$\n",
    "e^x = 1 + x + \\frac{x^2}{2!} + \\frac{x^3}{3!} + \\frac{x^4}{4!} + \\dots\n",
    "$$\n",
    "\n",
    "for large negative x, the terms alternate in sign and decrease rapidly. This can cause catastrophic cancellation due to loss of significant digits in floating-point arithmetic.\n",
    "\n",
    "The following Python code demonstrates this issue:"
   ]
  },
  {
   "cell_type": "code",
   "execution_count": 12,
   "id": "527a5b7d-c128-43a3-af84-bb512df60c39",
   "metadata": {},
   "outputs": [],
   "source": [
    "from math import factorial"
   ]
  },
  {
   "cell_type": "code",
   "execution_count": 13,
   "id": "8b9d094d-dc5b-408c-a1ba-dd1ac1db2b44",
   "metadata": {},
   "outputs": [],
   "source": [
    "def exponential(x,n_terms=50):\n",
    "    \"\"\"Compute exp(x) using the Taylor series expansion.\"\"\"\n",
    "    sum_exp = 0.0\n",
    "    \n",
    "    for n in range(n_terms):\n",
    "        sum_exp += (x**n)/factorial(n)\n",
    "        \n",
    "    return sum_exp"
   ]
  },
  {
   "cell_type": "code",
   "execution_count": 15,
   "id": "fa618d3e-679b-4475-bce6-c9927acafb26",
   "metadata": {},
   "outputs": [],
   "source": [
    "x_values = np.linspace(-20,0,100)"
   ]
  },
  {
   "cell_type": "code",
   "execution_count": 16,
   "id": "7109d9ab-16e5-4ed5-8c02-b92889b8f6d4",
   "metadata": {},
   "outputs": [],
   "source": [
    "exact_values = np.exp(x_values)\n",
    "apprx_values = exponential(x_values)"
   ]
  },
  {
   "cell_type": "code",
   "execution_count": 17,
   "id": "cc85d028-0d06-499c-ab55-6c3fe0862d5c",
   "metadata": {},
   "outputs": [],
   "source": [
    "errors = relative_error(apprx_values,exact_values)\n",
    "#np.array([relative_error(approx, exact) for approx, exact in zip(approx_values, exact_values)])"
   ]
  },
  {
   "cell_type": "code",
   "execution_count": 20,
   "id": "bb27c5a6-0d47-43bd-8460-fe616d27506d",
   "metadata": {},
   "outputs": [
    {
     "data": {
      "image/png": "[encoded data removed]",
      "text/plain": [
       "<Figure size 800x500 with 1 Axes>"
      ]
     },
     "metadata": {},
     "output_type": "display_data"
    }
   ],
   "source": [
    "plt.figure(figsize=(8, 5))\n",
    "plt.semilogy(x_values, errors, label=\"Relative Error\")\n",
    "plt.xlabel(\"x\")\n",
    "plt.ylabel(\"Relative Error (log scale)\")\n",
    "plt.title(\"Catastrophic Cancellation in exp(x) for Negative x\")\n",
    "plt.legend()\n",
    "plt.grid()\n",
    "plt.show()"
   ]
  },
  {
   "cell_type": "markdown",
   "id": "72506153-102e-4446-9924-febe29f5c373",
   "metadata": {},
   "source": [
    "This code compares the Taylor series approximation of $e^x$ with the actual np.exp(x) value for negative $x$,\n",
    "showing how relative error increases due to catastrophic cancellation. The semilogarithmic plot highlights the growing error as x becomes more negative."
   ]
  },
  {
   "cell_type": "markdown",
   "id": "234082ab-9c05-4259-b797-c8e9b3e61d35",
   "metadata": {},
   "source": [
    "#### Example 2: Quadratic Formula"
   ]
  },
  {
   "cell_type": "markdown",
   "id": "ea10b66b-f7fb-4f55-8621-7693efe216f7",
   "metadata": {},
   "source": [
    "I've added a demonstration of catastrophic cancellation when finding the roots of a quadratic equation. The code now includes both a naive and a numerically stable approach to computing the roots."
   ]
  },
  {
   "cell_type": "code",
   "execution_count": 32,
   "id": "88a3b5cc-901e-4e14-a696-47f40ef8d582",
   "metadata": {},
   "outputs": [],
   "source": [
    "from math import sqrt"
   ]
  },
  {
   "cell_type": "code",
   "execution_count": 25,
   "id": "20745293-6055-4c9c-ab1b-5e91c163c915",
   "metadata": {},
   "outputs": [],
   "source": [
    "def quadratic_equation(x,a=1,b=1,c=1):\n",
    "    \"\"\"Returns the value of quadratic equation.\"\"\"    \n",
    "    return a*x**2+b*x+c"
   ]
  },
  {
   "cell_type": "code",
   "execution_count": 34,
   "id": "46ae20ea-b37b-484e-a77c-67b2deb092c7",
   "metadata": {},
   "outputs": [],
   "source": [
    "def naive_solver(a,b,c):\n",
    "    \"\"\"Return the root values of x for quadratic equation,\n",
    "    naive implementation.\"\"\"\n",
    "    D = sqrt(b**2-4*a*c)\n",
    "\n",
    "    x1 = (-b+D)/(2*a)\n",
    "    x2 = (-b-D)/(2*a)\n",
    "    \n",
    "    return x1, x2"
   ]
  },
  {
   "cell_type": "code",
   "execution_count": 48,
   "id": "f679840c-2cd3-4018-8856-ffb4fe4557b8",
   "metadata": {},
   "outputs": [],
   "source": [
    "def stable_solver(a,b,c):\n",
    "    \"\"\"Return the root values of x for quadratic equation,\n",
    "    wise implementation.\"\"\"\n",
    "    D = sqrt(b**2-4*a*c)\n",
    "\n",
    "    if b>=0:\n",
    "        x1 = (2*c)/(-b-D)\n",
    "        x2 = (-b-D)/(2*a)\n",
    "    elif np.sign(b*D)<0:\n",
    "        x1 = (-b+D)/(2*a)\n",
    "        x2 = (2*c)/(-b+D)\n",
    "\n",
    "    return x1, x2"
   ]
  },
  {
   "cell_type": "code",
   "execution_count": 49,
   "id": "2397a2a7-c102-4fcb-b5f1-89b7b9480143",
   "metadata": {},
   "outputs": [],
   "source": [
    "a,b,c = 1., 200., -1.5e-14"
   ]
  },
  {
   "cell_type": "code",
   "execution_count": 50,
   "id": "13973e71-09b3-41ca-b424-5e5cd84b9dda",
   "metadata": {},
   "outputs": [
    {
     "name": "stdout",
     "output_type": "stream",
     "text": [
      "x1 = 0.0, y1 = -1.5e-14\n",
      "x2 = -200.0, y2 = -1.5e-14\n"
     ]
    }
   ],
   "source": [
    "x1,x2 = naive_solver(a,b,c)\n",
    "y1 = quadratic_equation(x1,a,b,c)\n",
    "y2 = quadratic_equation(x2,a,b,c)\n",
    "print(f\"{x1 = }, {y1 = }\")\n",
    "print(f\"{x2 = }, {y2 = }\")"
   ]
  },
  {
   "cell_type": "code",
   "execution_count": 51,
   "id": "c198f960-f3aa-4076-8671-f1869af42681",
   "metadata": {},
   "outputs": [
    {
     "name": "stdout",
     "output_type": "stream",
     "text": [
      "x1 = 7.5e-17, y1 = 0.0\n",
      "x2 = -200.0, y2 = -1.5e-14\n"
     ]
    }
   ],
   "source": [
    "x1,x2 = stable_solver(a,b,c)\n",
    "y1 = quadratic_equation(x1,a,b,c)\n",
    "y2 = quadratic_equation(x2,a,b,c)\n",
    "print(f\"{x1 = }, {y1 = }\")\n",
    "print(f\"{x2 = }, {y2 = }\")"
   ]
  },
  {
   "cell_type": "markdown",
   "id": "38c66a88-90e2-4284-a0aa-e7ad8c580294",
   "metadata": {},
   "source": [
    "## Mathematical Software"
   ]
  },
  {
   "cell_type": "code",
   "execution_count": null,
   "id": "02251246-fc9b-45a4-9013-810b00c4cdff",
   "metadata": {},
   "outputs": [],
   "source": []
  }
 ],
 "metadata": {
  "kernelspec": {
   "display_name": "Python 3 (ipykernel)",
   "language": "python",
   "name": "python3"
  },
  "language_info": {
   "codemirror_mode": {
    "name": "ipython",
    "version": 3
   },
   "file_extension": ".py",
   "mimetype": "text/x-python",
   "name": "python",
   "nbconvert_exporter": "python",
   "pygments_lexer": "ipython3",
   "version": "3.12.4"
  }
 },
 "nbformat": 4,
 "nbformat_minor": 5
}
