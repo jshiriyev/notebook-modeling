{
 "cells": [
  {
   "cell_type": "code",
   "execution_count": 1,
   "id": "de963138-4801-4681-9038-c94d90826b2e",
   "metadata": {},
   "outputs": [],
   "source": [
    "import numpy as np\n",
    "\n",
    "import matplotlib.pyplot as plt"
   ]
  },
  {
   "cell_type": "code",
   "execution_count": 2,
   "id": "0ed4921d-81a0-4b27-8b57-d3bd913e0d93",
   "metadata": {},
   "outputs": [],
   "source": [
    "class golden():\n",
    "    \"\"\"It is the implementation of golden section search technique.\"\"\"\n",
    "\n",
    "    def __init__(self,func,lower,upper,tol=1e-5):\n",
    "\n",
    "        self.lower = lower\n",
    "        self.upper = upper\n",
    "\n",
    "        self.tol = tol\n",
    "\n",
    "        self._ratio = (5**(1/2)-1)/2\n",
    "\n",
    "        self._iterate(func)\n",
    "\n",
    "    def _iterate(self,func):\n",
    "\n",
    "        lower,upper = self.lower,self.upper\n",
    "\n",
    "        x1 = (1-self.ratio)*upper+self.ratio*lower\n",
    "        x2 = (1-self.ratio)*lower+self.ratio*upper\n",
    "\n",
    "        f1 = func(x1)\n",
    "        f2 = func(x2)\n",
    "\n",
    "        self.calls = 2\n",
    "\n",
    "        while (upper-lower)>self.tol:\n",
    "\n",
    "            if f1>f2:\n",
    "                lower = x1\n",
    "                x1 = x2\n",
    "                f1 = f2\n",
    "                x2 = (1-self.ratio)*lower+self.ratio*upper\n",
    "                f2 = func(x2)\n",
    "            else:\n",
    "                upper = x2\n",
    "                x2 = x1\n",
    "                f2 = f1\n",
    "                x1 = (1-self.ratio)*upper+self.ratio*lower\n",
    "                f1 = func(x1)\n",
    "\n",
    "            self.calls += 1\n",
    "\n",
    "        self.solution = (lower+upper)/2\n",
    "\n",
    "        self.minima = func(self.solution)\n",
    "\n",
    "    @property\n",
    "    def ratio(self):\n",
    "\n",
    "        return self._ratio"
   ]
  },
  {
   "cell_type": "code",
   "execution_count": 3,
   "id": "52f61ba3-4de4-49f4-bbc3-a1f1efeab488",
   "metadata": {},
   "outputs": [
    {
     "name": "stdout",
     "output_type": "stream",
     "text": [
      "12 0.7050983124842272 0.07112152096239938\n"
     ]
    },
    {
     "data": {
      "image/png": "[encoded data removed]",
      "text/plain": [
       "<Figure size 640x480 with 1 Axes>"
      ]
     },
     "metadata": {},
     "output_type": "display_data"
    }
   ],
   "source": [
    "import matplotlib.pyplot as plt\n",
    "\n",
    "import numpy as np\n",
    "\n",
    "# def objective(x):\n",
    "#     return (x-2)**2+2\n",
    "\n",
    "def objective(x):\n",
    "    return 0.5-x*np.exp(-x**2)\n",
    "\n",
    "def objective1(x):\n",
    "    return (x-2)**2+2\n",
    "\n",
    "def objective2(x):\n",
    "    F = 10+0.2*x**(2.3)\n",
    "    G = 10+80*np.exp(-0.3*x)\n",
    "    return F+G\n",
    "\n",
    "def objective3(x):\n",
    "    return x*(x-2)*(x-3)*(x-6)+15\n",
    "\n",
    "def objective4(x):\n",
    "    return (x**2)/(1-x)\n",
    "\n",
    "x = np.linspace(0,4,100)\n",
    "\n",
    "o = objective(x)\n",
    "\n",
    "gs = golden(objective,0,4,tol=4e-2)\n",
    "\n",
    "print(gs.calls,gs.solution,gs.minima)\n",
    "\n",
    "plt.plot(x,o)\n",
    "plt.scatter(gs.solution,gs.minima)\n",
    "plt.show()\n",
    "\n",
    "# xL = -3\n",
    "# xU = 3\n",
    "\n",
    "# gs = golden(objective1,(xL,xU),ratio=0.51,nitermax=10000,tol=1e-5)\n",
    "\n",
    "# x = np.linspace(xL,xU,200)\n",
    "\n",
    "# plt.plot(x,objective1(x))\n",
    "# plt.scatter(gs.minsol,gs.minval)\n",
    "\n",
    "# plt.xlabel('x-axis')\n",
    "# plt.ylabel('objective function')\n",
    "\n",
    "# plt.show()"
   ]
  },
  {
   "cell_type": "code",
   "execution_count": null,
   "id": "9bc5036b-c4f9-4c71-acce-2e2a5603039c",
   "metadata": {},
   "outputs": [],
   "source": []
  }
 ],
 "metadata": {
  "kernelspec": {
   "display_name": "Python 3 (ipykernel)",
   "language": "python",
   "name": "python3"
  },
  "language_info": {
   "codemirror_mode": {
    "name": "ipython",
    "version": 3
   },
   "file_extension": ".py",
   "mimetype": "text/x-python",
   "name": "python",
   "nbconvert_exporter": "python",
   "pygments_lexer": "ipython3",
   "version": "3.12.4"
  }
 },
 "nbformat": 4,
 "nbformat_minor": 5
}
